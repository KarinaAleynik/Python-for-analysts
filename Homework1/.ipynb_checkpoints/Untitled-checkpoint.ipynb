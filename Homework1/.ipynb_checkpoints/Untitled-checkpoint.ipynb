{
 "cells": [
  {
   "cell_type": "markdown",
   "id": "312a0286",
   "metadata": {},
   "source": [
    "## Задача 1"
   ]
  },
  {
   "cell_type": "markdown",
   "id": "1b02f6b7",
   "metadata": {},
   "source": [
    "### На складе лежат разные фрукты в разном количестве. Нужно написать функцию, которая на вход принимает любое количество названий фруктов и их количество, а возвращает общее количество фруктов на складе"
   ]
  },
  {
   "cell_type": "code",
   "execution_count": 1,
   "id": "84ab0180",
   "metadata": {},
   "outputs": [
    {
     "name": "stdout",
     "output_type": "stream",
     "text": [
      "Oбщее количество фруктов на складе 19\n"
     ]
    }
   ],
   "source": [
    "def summa_fruits(**kwargs):\n",
    "    summa = 0\n",
    "    for key, value in kwargs.items():\n",
    "        summa += value\n",
    "    return summa\n",
    "print('Oбщее количество фруктов на складе', summa_fruits(bananas = 3, apple = 5, mango = 1, orange = 10))"
   ]
  },
  {
   "cell_type": "markdown",
   "id": "8220b50b",
   "metadata": {},
   "source": [
    "## Задача 2"
   ]
  },
  {
   "cell_type": "markdown",
   "id": "5413f9d4",
   "metadata": {},
   "source": [
    "### Дан список с затратами на рекламу. Но в данных есть ошибки, некоторые затраты имеют отрицательную величину. Удалите такие значения из списка и посчитайте суммарные затраты\n"
   ]
  },
  {
   "cell_type": "code",
   "execution_count": 2,
   "id": "38d22abd",
   "metadata": {},
   "outputs": [],
   "source": [
    "ls = [100, 125, -90, 345, 655, -1, 0, 200]"
   ]
  },
  {
   "cell_type": "code",
   "execution_count": 3,
   "id": "bc66af81",
   "metadata": {},
   "outputs": [],
   "source": [
    "def sum_list(ls: list) -> float:\n",
    "    ls = [i for i in ls if i >= 0]\n",
    "    return sum(ls)"
   ]
  },
  {
   "cell_type": "code",
   "execution_count": 4,
   "id": "4b484c1c",
   "metadata": {},
   "outputs": [
    {
     "name": "stdout",
     "output_type": "stream",
     "text": [
      "Cуммарные затраты =  1425\n"
     ]
    }
   ],
   "source": [
    "print('Cуммарные затраты = ', sum_list(ls))"
   ]
  },
  {
   "cell_type": "markdown",
   "id": "b7d8d302",
   "metadata": {},
   "source": [
    "## Задача 3"
   ]
  },
  {
   "cell_type": "markdown",
   "id": "e4b62831",
   "metadata": {},
   "source": [
    "### Даны два списка. "
   ]
  },
  {
   "cell_type": "code",
   "execution_count": 5,
   "id": "557c1e9d",
   "metadata": {},
   "outputs": [],
   "source": [
    "dates = ['2021-09-14', '2021-12-15', '2021-09-08', '2021-12-05', '2021-10-09', '2021-09-30', \n",
    "         '2021-12-22', '2021-11-29', '2021-12-24', '2021-11-26', '2021-10-27', '2021-12-18', \n",
    "         '2021-11-09', '2021-11-23', '2021-09-27', '2021-10-02', '2021-12-27', '2021-09-20', \n",
    "         '2021-12-13', '2021-11-01', '2021-11-09', '2021-12-06', '2021-12-08', '2021-10-09', \n",
    "         '2021-10-31', '2021-09-30', '2021-11-09', '2021-12-13', '2021-10-26', '2021-12-09']"
   ]
  },
  {
   "cell_type": "code",
   "execution_count": 6,
   "id": "46e53265",
   "metadata": {},
   "outputs": [],
   "source": [
    "summa_for_days = [1270, 8413, 9028, 3703, 5739, 4095, 295, 4944, 5723, 3701, 4471, 651, 7037, \n",
    "                  4274, 6275, 4988, 6930, 2971, 6592, 2004, 2822, 519, 3406, 2732, 5015, 2008, 316, 6333, 5700, 2887]"
   ]
  },
  {
   "cell_type": "markdown",
   "id": "f1ff9c1a",
   "metadata": {},
   "source": [
    "### 3.1 Найдите, какая выручка у компании в ноябре"
   ]
  },
  {
   "cell_type": "code",
   "execution_count": 7,
   "id": "adec52dc",
   "metadata": {
    "scrolled": false
   },
   "outputs": [
    {
     "data": {
      "text/plain": [
       "True"
      ]
     },
     "execution_count": 7,
     "metadata": {},
     "output_type": "execute_result"
    }
   ],
   "source": [
    "len(dates) == len(summa_for_days)"
   ]
  },
  {
   "cell_type": "code",
   "execution_count": 8,
   "id": "ffe7d7ab",
   "metadata": {},
   "outputs": [],
   "source": [
    "from datetime import datetime"
   ]
  },
  {
   "cell_type": "code",
   "execution_count": 9,
   "id": "d43dd25f",
   "metadata": {},
   "outputs": [
    {
     "name": "stdout",
     "output_type": "stream",
     "text": [
      "Выручка у компании в ноябре =  25098\n"
     ]
    }
   ],
   "source": [
    "november = [summa_for_days[i] for i in range(len(dates)) if datetime.strptime(dates[i], \"%Y-%m-%d\").date().month == 11]\n",
    "print ('Выручка у компании в ноябре = ', sum(november))"
   ]
  },
  {
   "cell_type": "markdown",
   "id": "9848606b",
   "metadata": {},
   "source": [
    "### 3.2 Найдите выручку компании в зависимости от месяца"
   ]
  },
  {
   "cell_type": "code",
   "execution_count": 10,
   "id": "a7a79128",
   "metadata": {},
   "outputs": [],
   "source": [
    "def revenue_by_month (ls1 : list, ls2: list) -> dict:\n",
    "    zip_ls = [(i[0][5:7], i[1]) for i in zip(ls1, ls2)]\n",
    "    dictionary = {i[0]:0 for i in zip_ls}\n",
    "    for i in zip_ls:\n",
    "        dictionary[i[0]] += i[1]\n",
    "    return dictionary"
   ]
  },
  {
   "cell_type": "code",
   "execution_count": 11,
   "id": "6bf0d158",
   "metadata": {},
   "outputs": [
    {
     "name": "stdout",
     "output_type": "stream",
     "text": [
      "Выручка компании по месяцам {'09': 25647, '12': 45452, '10': 28645, '11': 25098}\n"
     ]
    }
   ],
   "source": [
    "print('Выручка компании по месяцам', revenue_by_month(dates, summa_for_days))"
   ]
  }
 ],
 "metadata": {
  "kernelspec": {
   "display_name": "Python 3 (ipykernel)",
   "language": "python",
   "name": "python3"
  },
  "language_info": {
   "codemirror_mode": {
    "name": "ipython",
    "version": 3
   },
   "file_extension": ".py",
   "mimetype": "text/x-python",
   "name": "python",
   "nbconvert_exporter": "python",
   "pygments_lexer": "ipython3",
   "version": "3.9.13"
  }
 },
 "nbformat": 4,
 "nbformat_minor": 5
}
